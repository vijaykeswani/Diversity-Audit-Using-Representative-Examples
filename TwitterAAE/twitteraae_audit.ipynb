{
 "cells": [
  {
   "cell_type": "markdown",
   "metadata": {},
   "source": [
    "### This notebook provides the code for diversity audit of collections from TwitterAAE dataset"
   ]
  },
  {
   "cell_type": "code",
   "execution_count": 1,
   "metadata": {},
   "outputs": [],
   "source": [
    "import csv\n",
    "import codecs\n",
    "import re\n",
    "from tqdm.notebook import tqdm\n",
    "import numpy as np\n",
    "import sumy\n",
    "from sklearn.feature_extraction.text import TfidfVectorizer\n",
    "import matplotlib.pyplot as plt\n",
    "from matplotlib.pyplot import figure\n",
    "import nltk\n",
    "import random\n",
    "from lexrank import STOPWORDS, LexRank\n",
    "from gensim.models import TfidfModel\n",
    "from scipy.spatial import distance\n",
    "from rouge import Rouge \n",
    "\n",
    "import networkx as nx\n",
    "import os"
   ]
  },
  {
   "cell_type": "code",
   "execution_count": 2,
   "metadata": {},
   "outputs": [
    {
     "data": {
      "application/vnd.jupyter.widget-view+json": {
       "model_id": "9c68c9a8251842108eed429c55abb8d0",
       "version_major": 2,
       "version_minor": 0
      },
      "text/plain": [
       "HBox(children=(FloatProgress(value=1.0, bar_style='info', max=1.0), HTML(value='')))"
      ]
     },
     "metadata": {},
     "output_type": "display_data"
    },
    {
     "name": "stdout",
     "output_type": "stream",
     "text": [
      "\n"
     ]
    }
   ],
   "source": [
    "# Get twitteraae_all in the TwitterAAE dataset from http://slanglab.cs.umass.edu/TwitterAAE/\n",
    "\n",
    "tweetsToDialect = {}\n",
    "hashtags = []\n",
    "us = 0\n",
    "threshold = 0.99\n",
    "with open('./twitteraae_all', encoding=\"utf8\", errors='ignore') as csv_file:\n",
    "    csv_reader = csv.reader(csv_file, delimiter='\\t')\n",
    "    for row in tqdm(csv_reader):\n",
    "        probAA = float(row[-4])\n",
    "        probWh = float(row[-1])\n",
    "        probOth = float(row[-2]) + float(row[-3])\n",
    "        if probOth > 0.1:\n",
    "            continue\n",
    "        if probAA < threshold and probWh < threshold:\n",
    "            continue\n",
    "        \n",
    "        text = row[-5]\n",
    "        \n",
    "        text = re.sub(r\"http\\S+\", \"\", text)    \n",
    "        text = text.lower()\n",
    "        text = text.replace('_', ' ')\n",
    "        text = text.replace('\\n', ' ')\n",
    "        text = text.replace('\\t', ' ')\n",
    "        text = text.replace('..', '.')\n",
    "        text = re.sub('[^A-Za-z0-9.!?#@, ]+', '', text)        \n",
    "        text = text.replace('  ', ' ')\n",
    "        text = re.sub(r\"\\@\\w+\", 'ATMENTION', text)\n",
    "                \n",
    "        if probAA >= threshold:\n",
    "            tweetsToDialect[text] = \"AAE\"\n",
    "        elif probWh >= threshold:\n",
    "            tweetsToDialect[text] = \"WH\"\n",
    "        else:\n",
    "            continue\n",
    "                \n",
    "        \n"
   ]
  },
  {
   "cell_type": "code",
   "execution_count": 4,
   "metadata": {},
   "outputs": [],
   "source": [
    "LANGUAGE = \"english\"\n",
    "from nltk.corpus import stopwords\n",
    "stopwords = stopwords.words(LANGUAGE)"
   ]
  },
  {
   "cell_type": "code",
   "execution_count": 5,
   "metadata": {},
   "outputs": [
    {
     "data": {
      "text/plain": [
       "3039345"
      ]
     },
     "execution_count": 5,
     "metadata": {},
     "output_type": "execute_result"
    }
   ],
   "source": [
    "## Get Word2Vec model from https://fredericgodin.com/research/twitter-word-embeddings/\n",
    "\n",
    "import gensim\n",
    "model = gensim.models.KeyedVectors.load_word2vec_format('./models/word2vec_twitter_tokens.bin', binary=True, unicode_errors='ignore')\n",
    "\n",
    "vocab = model.vocab\n",
    "len(vocab)"
   ]
  },
  {
   "cell_type": "code",
   "execution_count": 9,
   "metadata": {},
   "outputs": [
    {
     "data": {
      "application/vnd.jupyter.widget-view+json": {
       "model_id": "ba50eb347a164459a58cfd0d536cce84",
       "version_major": 2,
       "version_minor": 0
      },
      "text/plain": [
       "HBox(children=(FloatProgress(value=0.0, max=1169550.0), HTML(value='')))"
      ]
     },
     "metadata": {},
     "output_type": "display_data"
    },
    {
     "name": "stdout",
     "output_type": "stream",
     "text": [
      "\n"
     ]
    }
   ],
   "source": [
    "def aggregate(feats):\n",
    "    if len(feats) == 0:\n",
    "        return []\n",
    "    return np.mean(feats, axis=0)\n",
    "\n",
    "def getFeature(t):\n",
    "    words = nltk.word_tokenize(t)\n",
    "    feat = []\n",
    "    for word in words:\n",
    "        if word in stopwords:\n",
    "            continue\n",
    "        if word not in vocab:\n",
    "            continue\n",
    "        feat.append(model[word])\n",
    "\n",
    "    feat = aggregate(feat)\n",
    "    return feat\n",
    "\n",
    "\n",
    "allFeatures = {}\n",
    "for t in tqdm(tweets):\n",
    "    feat = getFeature(t)\n",
    "    if len(feat) == 0:\n",
    "        continue\n",
    "    allFeatures[t] = feat"
   ]
  },
  {
   "cell_type": "code",
   "execution_count": 391,
   "metadata": {},
   "outputs": [
    {
     "name": "stdout",
     "output_type": "stream",
     "text": [
      "1156272\n",
      "100098 1056174\n"
     ]
    },
    {
     "data": {
      "text/plain": [
       "0.0865695960811989"
      ]
     },
     "execution_count": 391,
     "metadata": {},
     "output_type": "execute_result"
    }
   ],
   "source": [
    "tweets = list(allFeatures.keys())\n",
    "print (len(tweets))\n",
    "\n",
    "aa_T = [t for t in tweets if tweetsToDialect[t]==\"AAE\" ]\n",
    "wh_T = [t for t in tweets if tweetsToDialect[t]==\"WH\" ]\n",
    "print (len(aa_T), len(wh_T))\n",
    "\n",
    "random.shuffle(aa_T)\n",
    "random.shuffle(wh_T)\n",
    "\n",
    "baseFrac = len(aa_T)/len(tweets)\n",
    "baseFrac"
   ]
  },
  {
   "cell_type": "code",
   "execution_count": 436,
   "metadata": {},
   "outputs": [],
   "source": [
    "def getDataset(total, f):\n",
    "    D = list(tweetsToDialect.keys())\n",
    "    random.shuffle(D)\n",
    "    return D[:total]\n",
    "\n",
    "def getDataset2(total):\n",
    "    random.shuffle(aa_T)\n",
    "    random.shuffle(wh_T)\n",
    "    \n",
    "    n = int(total/2)\n",
    "    D = aa_T[:n] + wh_T[:n]\n",
    "    random.shuffle(D)\n",
    "    return D\n",
    "    \n",
    "def sim(x1, x2):\n",
    "    return 2 - distance.cosine(x1, x2) "
   ]
  },
  {
   "cell_type": "code",
   "execution_count": 527,
   "metadata": {},
   "outputs": [],
   "source": [
    "def getBounds(control):\n",
    "    validation_m, validation_f = [], []\n",
    "    for t in control:\n",
    "        if tweetsToDialect[t] == 'AAE':\n",
    "            validation_f = validation_f + [t]\n",
    "        else:\n",
    "            validation_m = validation_m + [t]\n",
    "            \n",
    "    simMatrix = ([np.array([sim(allFeatures[e1], allFeatures[e2]) for e1 in validation_m if e1 != e2]) for e2 in control])\n",
    "    simSum = [np.mean(simMatrix[i]) for i in range(len(simMatrix))]\n",
    "    fs = np.mean([simSum[i] for i in range(len(simSum)) if tweetsToDialect[control[i]] == 'AAE'])\n",
    "    ms = np.mean([simSum[i] for i in range(len(simSum)) if not tweetsToDialect[control[i]] == 'AAE'])\n",
    "    lowerFS, upperMS = fs, ms\n",
    "    lowerR = fs/(fs+ms)\n",
    "    lowerD1 = min(fs/ms, ms/fs)\n",
    "\n",
    "    simMatrix = ([np.array([sim(allFeatures[e1], allFeatures[e2]) for e1 in validation_f if e1 != e2]) for e2 in control])\n",
    "    simSum = [np.mean(simMatrix[i]) for i in range(len(simMatrix))]\n",
    "    fs = np.mean([simSum[i] for i in range(len(simSum)) if tweetsToDialect[control[i]] == 'AAE'])\n",
    "    ms = np.mean([simSum[i] for i in range(len(simSum)) if not tweetsToDialect[control[i]] == 'AAE'])\n",
    "    upperFS, lowerMS = fs, ms\n",
    "    upperR = fs/(fs+ms)\n",
    "    lowerD2 = min(fs/ms, ms/fs)\n",
    "    \n",
    "    return lowerFS, lowerMS, upperFS, upperMS\n",
    "    \n",
    "# Random control sets\n",
    "def getRandomControlSet(indices, k=20):\n",
    "    control = []\n",
    "    vpartitions = {}\n",
    "    k2 = int(k/2)\n",
    "    \n",
    "    aa_C = [tweets[i] for i in indices if tweetsToDialect[tweets[i]]==\"AAE\" ]\n",
    "    wh_C = [tweets[i] for i in indices if tweetsToDialect[tweets[i]]==\"WH\" ]\n",
    "    random.shuffle(aa_C)\n",
    "    random.shuffle(wh_C)\n",
    "    \n",
    "    control = aa_C[:k2] + wh_C[:k2]\n",
    "    lowerFS, lowerMS, upperFS, upperMS = getBounds(control)\n",
    "\n",
    "    return control, lowerFS, lowerMS, upperFS, upperMS\n",
    "\n",
    "# Adaptive control sets\n",
    "def getGoodControlSet(indices, k=20, alpha=1):\n",
    "    control = []\n",
    "    vpartitions = {}\n",
    "    k2 = int(k/2)\n",
    "\n",
    "    aa_C = [tweets[i] for i in indices if tweetsToDialect[tweets[i]]==\"AAE\" ]\n",
    "    wh_C = [tweets[i] for i in indices if tweetsToDialect[tweets[i]]==\"WH\" ]\n",
    "    \n",
    "    control_0 = []\n",
    "    gamma = []\n",
    "    for t in aa_C:\n",
    "        g_aa = [sim(allFeatures[t], allFeatures[t2]) for t2 in aa_C if t != t2]\n",
    "        g_wh = [sim(allFeatures[t], allFeatures[t2]) for t2 in wh_C if t != t2]\n",
    "        gamma.append(np.mean(g_aa) - np.mean(g_wh))\n",
    "        \n",
    "    gamma = np.array(gamma)\n",
    "    red_score = np.array([0 for _ in aa_C])\n",
    "    while len(control_0) < k2:\n",
    "        choose = np.argmax(gamma - alpha*red_score)\n",
    "        \n",
    "        red_score_2 = []\n",
    "        for i, t in enumerate(aa_C):\n",
    "            red_score_2.append(max(red_score[i], sim(allFeatures[aa_C[choose]], allFeatures[t])))\n",
    "            \n",
    "        red_score = np.array(list(red_score_2))\n",
    "        gamma[choose] = -100000\n",
    "        control_0.append(aa_C[choose])\n",
    "    \n",
    "        \n",
    "    control_1 = []\n",
    "    gamma = []\n",
    "    for t in wh_C:\n",
    "        g_aa = [sim(allFeatures[t], allFeatures[t2]) for t2 in aa_C if t != t2]\n",
    "        g_wh = [sim(allFeatures[t], allFeatures[t2]) for t2 in wh_C if t != t2]\n",
    "        gamma.append(np.mean(g_wh) - np.mean(g_aa))\n",
    "        \n",
    "    gamma = np.array(gamma)\n",
    "    red_score = np.array([0 for _ in wh_C])\n",
    "    while len(control_1) < k2:\n",
    "        choose = np.argmax(gamma - alpha*red_score)\n",
    "#         print (gamma[choose], red_score[choose])\n",
    "        \n",
    "        red_score_2 = []\n",
    "        for i, t in enumerate(wh_C):\n",
    "            red_score_2.append(max(red_score[i], sim(allFeatures[wh_C[choose]], allFeatures[t])))\n",
    "            \n",
    "        red_score = np.array(list(red_score_2))\n",
    "        gamma[choose] = -100000\n",
    "        control_1.append(wh_C[choose])\n",
    "\n",
    "    control = control_0 + control_1\n",
    "    \n",
    "    lowerFS, lowerMS, upperFS, upperMS = getBounds(control)\n",
    "    return control, lowerFS, lowerMS, upperFS, upperMS\n"
   ]
  },
  {
   "cell_type": "code",
   "execution_count": 586,
   "metadata": {},
   "outputs": [
    {
     "name": "stdout",
     "output_type": "stream",
     "text": [
      "1.4294318437576294 1.4294318437576294 1.4890627130002214 1.4140237016975883 49\n",
      "1.3397660568594931 1.3397660568594931 1.4934664133536644 1.3143205307237804 50\n"
     ]
    }
   ],
   "source": [
    "control, lowerFS, lowerMS, upperFS, upperMS = getRandomControlSet(validation, k=50)\n",
    "print (lowerFS, lowerMS, upperFS, upperMS, len(control))\n",
    "\n",
    "control, lowerFS, lowerMS, upperFS, upperMS = getGoodControlSet(validation, k=50, alpha=0.1)\n",
    "print (lowerFS, lowerMS, upperFS, upperMS, len(control))"
   ]
  },
  {
   "cell_type": "code",
   "execution_count": 558,
   "metadata": {
    "scrolled": true
   },
   "outputs": [
    {
     "data": {
      "application/vnd.jupyter.widget-view+json": {
       "model_id": "b7c3c13e0bfc4e36a91804b1e50d316e",
       "version_major": 2,
       "version_minor": 0
      },
      "text/plain": [
       "HBox(children=(FloatProgress(value=0.0, max=25.0), HTML(value='')))"
      ]
     },
     "metadata": {},
     "output_type": "display_data"
    },
    {
     "data": {
      "application/vnd.jupyter.widget-view+json": {
       "model_id": "54bcde4fc3f947d994a8ff0554205827",
       "version_major": 2,
       "version_minor": 0
      },
      "text/plain": [
       "HBox(children=(FloatProgress(value=0.0, max=9.0), HTML(value='')))"
      ]
     },
     "metadata": {},
     "output_type": "display_data"
    },
    {
     "name": "stdout",
     "output_type": "stream",
     "text": [
      "\n"
     ]
    },
    {
     "data": {
      "application/vnd.jupyter.widget-view+json": {
       "model_id": "a3bfbdd509914f0ca27f34b4f16820cd",
       "version_major": 2,
       "version_minor": 0
      },
      "text/plain": [
       "HBox(children=(FloatProgress(value=0.0, max=9.0), HTML(value='')))"
      ]
     },
     "metadata": {},
     "output_type": "display_data"
    },
    {
     "name": "stdout",
     "output_type": "stream",
     "text": [
      "\n"
     ]
    },
    {
     "data": {
      "application/vnd.jupyter.widget-view+json": {
       "model_id": "7d722d779b21405fbac8041a4e567d0e",
       "version_major": 2,
       "version_minor": 0
      },
      "text/plain": [
       "HBox(children=(FloatProgress(value=0.0, max=9.0), HTML(value='')))"
      ]
     },
     "metadata": {},
     "output_type": "display_data"
    },
    {
     "name": "stdout",
     "output_type": "stream",
     "text": [
      "\n"
     ]
    },
    {
     "data": {
      "application/vnd.jupyter.widget-view+json": {
       "model_id": "09b97a50ad33468fb88dd863858395dc",
       "version_major": 2,
       "version_minor": 0
      },
      "text/plain": [
       "HBox(children=(FloatProgress(value=0.0, max=9.0), HTML(value='')))"
      ]
     },
     "metadata": {},
     "output_type": "display_data"
    },
    {
     "name": "stdout",
     "output_type": "stream",
     "text": [
      "\n"
     ]
    },
    {
     "data": {
      "application/vnd.jupyter.widget-view+json": {
       "model_id": "1c31649d9a10495883455b2d80e480f9",
       "version_major": 2,
       "version_minor": 0
      },
      "text/plain": [
       "HBox(children=(FloatProgress(value=0.0, max=9.0), HTML(value='')))"
      ]
     },
     "metadata": {},
     "output_type": "display_data"
    },
    {
     "name": "stdout",
     "output_type": "stream",
     "text": [
      "\n"
     ]
    },
    {
     "data": {
      "application/vnd.jupyter.widget-view+json": {
       "model_id": "3d3759889d044b73af77c2ef854d15ee",
       "version_major": 2,
       "version_minor": 0
      },
      "text/plain": [
       "HBox(children=(FloatProgress(value=0.0, max=9.0), HTML(value='')))"
      ]
     },
     "metadata": {},
     "output_type": "display_data"
    },
    {
     "name": "stdout",
     "output_type": "stream",
     "text": [
      "\n"
     ]
    },
    {
     "data": {
      "application/vnd.jupyter.widget-view+json": {
       "model_id": "589fb656b9534a5c97a477e1c27f0a7e",
       "version_major": 2,
       "version_minor": 0
      },
      "text/plain": [
       "HBox(children=(FloatProgress(value=0.0, max=9.0), HTML(value='')))"
      ]
     },
     "metadata": {},
     "output_type": "display_data"
    },
    {
     "name": "stdout",
     "output_type": "stream",
     "text": [
      "\n"
     ]
    },
    {
     "data": {
      "application/vnd.jupyter.widget-view+json": {
       "model_id": "bf039ddc32c9457daa1b4c357aaf5f3f",
       "version_major": 2,
       "version_minor": 0
      },
      "text/plain": [
       "HBox(children=(FloatProgress(value=0.0, max=9.0), HTML(value='')))"
      ]
     },
     "metadata": {},
     "output_type": "display_data"
    },
    {
     "name": "stdout",
     "output_type": "stream",
     "text": [
      "\n"
     ]
    },
    {
     "data": {
      "application/vnd.jupyter.widget-view+json": {
       "model_id": "ee02e022783e43349501ca295e347173",
       "version_major": 2,
       "version_minor": 0
      },
      "text/plain": [
       "HBox(children=(FloatProgress(value=0.0, max=9.0), HTML(value='')))"
      ]
     },
     "metadata": {},
     "output_type": "display_data"
    },
    {
     "name": "stdout",
     "output_type": "stream",
     "text": [
      "\n"
     ]
    },
    {
     "data": {
      "application/vnd.jupyter.widget-view+json": {
       "model_id": "fe0b0cef3d564af99c465bfcac44b441",
       "version_major": 2,
       "version_minor": 0
      },
      "text/plain": [
       "HBox(children=(FloatProgress(value=0.0, max=9.0), HTML(value='')))"
      ]
     },
     "metadata": {},
     "output_type": "display_data"
    },
    {
     "name": "stdout",
     "output_type": "stream",
     "text": [
      "\n"
     ]
    },
    {
     "data": {
      "application/vnd.jupyter.widget-view+json": {
       "model_id": "68a880eb06454fe2bfe91c61b7e01cad",
       "version_major": 2,
       "version_minor": 0
      },
      "text/plain": [
       "HBox(children=(FloatProgress(value=0.0, max=9.0), HTML(value='')))"
      ]
     },
     "metadata": {},
     "output_type": "display_data"
    },
    {
     "name": "stdout",
     "output_type": "stream",
     "text": [
      "\n"
     ]
    },
    {
     "data": {
      "application/vnd.jupyter.widget-view+json": {
       "model_id": "6952fd3d244342238346479ce931c448",
       "version_major": 2,
       "version_minor": 0
      },
      "text/plain": [
       "HBox(children=(FloatProgress(value=0.0, max=9.0), HTML(value='')))"
      ]
     },
     "metadata": {},
     "output_type": "display_data"
    },
    {
     "name": "stdout",
     "output_type": "stream",
     "text": [
      "\n"
     ]
    },
    {
     "data": {
      "application/vnd.jupyter.widget-view+json": {
       "model_id": "90147cd6d67e496184641de9c04302b5",
       "version_major": 2,
       "version_minor": 0
      },
      "text/plain": [
       "HBox(children=(FloatProgress(value=0.0, max=9.0), HTML(value='')))"
      ]
     },
     "metadata": {},
     "output_type": "display_data"
    },
    {
     "name": "stdout",
     "output_type": "stream",
     "text": [
      "\n"
     ]
    },
    {
     "data": {
      "application/vnd.jupyter.widget-view+json": {
       "model_id": "8df2222ba3044ce6adb3666db3819301",
       "version_major": 2,
       "version_minor": 0
      },
      "text/plain": [
       "HBox(children=(FloatProgress(value=0.0, max=9.0), HTML(value='')))"
      ]
     },
     "metadata": {},
     "output_type": "display_data"
    },
    {
     "name": "stdout",
     "output_type": "stream",
     "text": [
      "\n"
     ]
    },
    {
     "data": {
      "application/vnd.jupyter.widget-view+json": {
       "model_id": "d809a5a37f3247e0b387fcaaa6814e30",
       "version_major": 2,
       "version_minor": 0
      },
      "text/plain": [
       "HBox(children=(FloatProgress(value=0.0, max=9.0), HTML(value='')))"
      ]
     },
     "metadata": {},
     "output_type": "display_data"
    },
    {
     "name": "stdout",
     "output_type": "stream",
     "text": [
      "\n"
     ]
    },
    {
     "data": {
      "application/vnd.jupyter.widget-view+json": {
       "model_id": "06da45564b8640adbebe2eb72302d30c",
       "version_major": 2,
       "version_minor": 0
      },
      "text/plain": [
       "HBox(children=(FloatProgress(value=0.0, max=9.0), HTML(value='')))"
      ]
     },
     "metadata": {},
     "output_type": "display_data"
    },
    {
     "name": "stdout",
     "output_type": "stream",
     "text": [
      "\n"
     ]
    },
    {
     "data": {
      "application/vnd.jupyter.widget-view+json": {
       "model_id": "87c95bc94e874fcc8ce8d8b3b50dafbf",
       "version_major": 2,
       "version_minor": 0
      },
      "text/plain": [
       "HBox(children=(FloatProgress(value=0.0, max=9.0), HTML(value='')))"
      ]
     },
     "metadata": {},
     "output_type": "display_data"
    },
    {
     "name": "stdout",
     "output_type": "stream",
     "text": [
      "\n"
     ]
    },
    {
     "data": {
      "application/vnd.jupyter.widget-view+json": {
       "model_id": "c23fb9a3903341f99f709c76ebf04377",
       "version_major": 2,
       "version_minor": 0
      },
      "text/plain": [
       "HBox(children=(FloatProgress(value=0.0, max=9.0), HTML(value='')))"
      ]
     },
     "metadata": {},
     "output_type": "display_data"
    },
    {
     "name": "stdout",
     "output_type": "stream",
     "text": [
      "\n"
     ]
    },
    {
     "data": {
      "application/vnd.jupyter.widget-view+json": {
       "model_id": "42c77723e3bc477787c28241219381e1",
       "version_major": 2,
       "version_minor": 0
      },
      "text/plain": [
       "HBox(children=(FloatProgress(value=0.0, max=9.0), HTML(value='')))"
      ]
     },
     "metadata": {},
     "output_type": "display_data"
    },
    {
     "name": "stdout",
     "output_type": "stream",
     "text": [
      "\n"
     ]
    },
    {
     "data": {
      "application/vnd.jupyter.widget-view+json": {
       "model_id": "baf433116dc24f309ac3d103daa52b85",
       "version_major": 2,
       "version_minor": 0
      },
      "text/plain": [
       "HBox(children=(FloatProgress(value=0.0, max=9.0), HTML(value='')))"
      ]
     },
     "metadata": {},
     "output_type": "display_data"
    },
    {
     "name": "stdout",
     "output_type": "stream",
     "text": [
      "\n"
     ]
    },
    {
     "data": {
      "application/vnd.jupyter.widget-view+json": {
       "model_id": "262ca4d31cc94127b0566cbb61e9d140",
       "version_major": 2,
       "version_minor": 0
      },
      "text/plain": [
       "HBox(children=(FloatProgress(value=0.0, max=9.0), HTML(value='')))"
      ]
     },
     "metadata": {},
     "output_type": "display_data"
    },
    {
     "name": "stdout",
     "output_type": "stream",
     "text": [
      "\n"
     ]
    },
    {
     "data": {
      "application/vnd.jupyter.widget-view+json": {
       "model_id": "67d6a867282b417689f5b6fa2884d899",
       "version_major": 2,
       "version_minor": 0
      },
      "text/plain": [
       "HBox(children=(FloatProgress(value=0.0, max=9.0), HTML(value='')))"
      ]
     },
     "metadata": {},
     "output_type": "display_data"
    },
    {
     "name": "stdout",
     "output_type": "stream",
     "text": [
      "\n"
     ]
    },
    {
     "data": {
      "application/vnd.jupyter.widget-view+json": {
       "model_id": "d7bf5f41ea9048278fba5f1049d15742",
       "version_major": 2,
       "version_minor": 0
      },
      "text/plain": [
       "HBox(children=(FloatProgress(value=0.0, max=9.0), HTML(value='')))"
      ]
     },
     "metadata": {},
     "output_type": "display_data"
    },
    {
     "name": "stdout",
     "output_type": "stream",
     "text": [
      "\n"
     ]
    },
    {
     "data": {
      "application/vnd.jupyter.widget-view+json": {
       "model_id": "5049be3ce1b6431a94919fbdbe033e3d",
       "version_major": 2,
       "version_minor": 0
      },
      "text/plain": [
       "HBox(children=(FloatProgress(value=0.0, max=9.0), HTML(value='')))"
      ]
     },
     "metadata": {},
     "output_type": "display_data"
    },
    {
     "name": "stdout",
     "output_type": "stream",
     "text": [
      "\n"
     ]
    },
    {
     "data": {
      "application/vnd.jupyter.widget-view+json": {
       "model_id": "f156df8c303f43c78a177f39767cd301",
       "version_major": 2,
       "version_minor": 0
      },
      "text/plain": [
       "HBox(children=(FloatProgress(value=0.0, max=9.0), HTML(value='')))"
      ]
     },
     "metadata": {},
     "output_type": "display_data"
    },
    {
     "name": "stdout",
     "output_type": "stream",
     "text": [
      "\n"
     ]
    },
    {
     "data": {
      "application/vnd.jupyter.widget-view+json": {
       "model_id": "e16708db389b4eaab93cbe247610568d",
       "version_major": 2,
       "version_minor": 0
      },
      "text/plain": [
       "HBox(children=(FloatProgress(value=0.0, max=9.0), HTML(value='')))"
      ]
     },
     "metadata": {},
     "output_type": "display_data"
    },
    {
     "name": "stdout",
     "output_type": "stream",
     "text": [
      "\n"
     ]
    },
    {
     "data": {
      "application/vnd.jupyter.widget-view+json": {
       "model_id": "db74030157254ad5956f2e0ed4c9ebc9",
       "version_major": 2,
       "version_minor": 0
      },
      "text/plain": [
       "HBox(children=(FloatProgress(value=0.0, max=9.0), HTML(value='')))"
      ]
     },
     "metadata": {},
     "output_type": "display_data"
    },
    {
     "name": "stdout",
     "output_type": "stream",
     "text": [
      "\n"
     ]
    },
    {
     "data": {
      "application/vnd.jupyter.widget-view+json": {
       "model_id": "201e9cff57aa4bfbb3fc3801fa4d54b1",
       "version_major": 2,
       "version_minor": 0
      },
      "text/plain": [
       "HBox(children=(FloatProgress(value=0.0, max=9.0), HTML(value='')))"
      ]
     },
     "metadata": {},
     "output_type": "display_data"
    },
    {
     "name": "stdout",
     "output_type": "stream",
     "text": [
      "\n"
     ]
    },
    {
     "data": {
      "application/vnd.jupyter.widget-view+json": {
       "model_id": "741f2f4b90f449aba48aaf95c8c87055",
       "version_major": 2,
       "version_minor": 0
      },
      "text/plain": [
       "HBox(children=(FloatProgress(value=0.0, max=9.0), HTML(value='')))"
      ]
     },
     "metadata": {},
     "output_type": "display_data"
    },
    {
     "name": "stdout",
     "output_type": "stream",
     "text": [
      "\n"
     ]
    },
    {
     "data": {
      "application/vnd.jupyter.widget-view+json": {
       "model_id": "78b28dd0df43495a8d6b5339344d221a",
       "version_major": 2,
       "version_minor": 0
      },
      "text/plain": [
       "HBox(children=(FloatProgress(value=0.0, max=9.0), HTML(value='')))"
      ]
     },
     "metadata": {},
     "output_type": "display_data"
    },
    {
     "name": "stdout",
     "output_type": "stream",
     "text": [
      "\n"
     ]
    },
    {
     "data": {
      "application/vnd.jupyter.widget-view+json": {
       "model_id": "8d8c7478e1884566ad3823bc37cd5d80",
       "version_major": 2,
       "version_minor": 0
      },
      "text/plain": [
       "HBox(children=(FloatProgress(value=0.0, max=9.0), HTML(value='')))"
      ]
     },
     "metadata": {},
     "output_type": "display_data"
    },
    {
     "name": "stdout",
     "output_type": "stream",
     "text": [
      "\n"
     ]
    },
    {
     "data": {
      "application/vnd.jupyter.widget-view+json": {
       "model_id": "885f0bcf40f140ed97094eeb56499c40",
       "version_major": 2,
       "version_minor": 0
      },
      "text/plain": [
       "HBox(children=(FloatProgress(value=0.0, max=9.0), HTML(value='')))"
      ]
     },
     "metadata": {},
     "output_type": "display_data"
    },
    {
     "name": "stdout",
     "output_type": "stream",
     "text": [
      "\n"
     ]
    },
    {
     "data": {
      "application/vnd.jupyter.widget-view+json": {
       "model_id": "cc7833416d3e46b5ae5907d078658909",
       "version_major": 2,
       "version_minor": 0
      },
      "text/plain": [
       "HBox(children=(FloatProgress(value=0.0, max=9.0), HTML(value='')))"
      ]
     },
     "metadata": {},
     "output_type": "display_data"
    },
    {
     "name": "stdout",
     "output_type": "stream",
     "text": [
      "\n"
     ]
    },
    {
     "data": {
      "application/vnd.jupyter.widget-view+json": {
       "model_id": "b7b5e9196c0b4205aeb4d383d6daaa3f",
       "version_major": 2,
       "version_minor": 0
      },
      "text/plain": [
       "HBox(children=(FloatProgress(value=0.0, max=9.0), HTML(value='')))"
      ]
     },
     "metadata": {},
     "output_type": "display_data"
    },
    {
     "name": "stdout",
     "output_type": "stream",
     "text": [
      "\n"
     ]
    },
    {
     "data": {
      "application/vnd.jupyter.widget-view+json": {
       "model_id": "03418e75859e4a7bbdfecee92bede1fe",
       "version_major": 2,
       "version_minor": 0
      },
      "text/plain": [
       "HBox(children=(FloatProgress(value=0.0, max=9.0), HTML(value='')))"
      ]
     },
     "metadata": {},
     "output_type": "display_data"
    },
    {
     "name": "stdout",
     "output_type": "stream",
     "text": [
      "\n"
     ]
    },
    {
     "data": {
      "application/vnd.jupyter.widget-view+json": {
       "model_id": "aa6af9f3034b45fd87f7c22bd08671b5",
       "version_major": 2,
       "version_minor": 0
      },
      "text/plain": [
       "HBox(children=(FloatProgress(value=0.0, max=9.0), HTML(value='')))"
      ]
     },
     "metadata": {},
     "output_type": "display_data"
    },
    {
     "name": "stdout",
     "output_type": "stream",
     "text": [
      "\n"
     ]
    },
    {
     "data": {
      "application/vnd.jupyter.widget-view+json": {
       "model_id": "3fb57bc15b194e399c0f6ae9c3cda832",
       "version_major": 2,
       "version_minor": 0
      },
      "text/plain": [
       "HBox(children=(FloatProgress(value=0.0, max=9.0), HTML(value='')))"
      ]
     },
     "metadata": {},
     "output_type": "display_data"
    },
    {
     "name": "stdout",
     "output_type": "stream",
     "text": [
      "\n"
     ]
    },
    {
     "data": {
      "application/vnd.jupyter.widget-view+json": {
       "model_id": "f079f750e8cc4aa7a30ab7edd8e441f0",
       "version_major": 2,
       "version_minor": 0
      },
      "text/plain": [
       "HBox(children=(FloatProgress(value=0.0, max=9.0), HTML(value='')))"
      ]
     },
     "metadata": {},
     "output_type": "display_data"
    },
    {
     "name": "stdout",
     "output_type": "stream",
     "text": [
      "\n"
     ]
    },
    {
     "data": {
      "application/vnd.jupyter.widget-view+json": {
       "model_id": "063c4c1e077e4361ad256042721c7ef0",
       "version_major": 2,
       "version_minor": 0
      },
      "text/plain": [
       "HBox(children=(FloatProgress(value=0.0, max=9.0), HTML(value='')))"
      ]
     },
     "metadata": {},
     "output_type": "display_data"
    },
    {
     "name": "stdout",
     "output_type": "stream",
     "text": [
      "\n"
     ]
    },
    {
     "data": {
      "application/vnd.jupyter.widget-view+json": {
       "model_id": "9a917a1069b44cdc8493a2d58c089596",
       "version_major": 2,
       "version_minor": 0
      },
      "text/plain": [
       "HBox(children=(FloatProgress(value=0.0, max=9.0), HTML(value='')))"
      ]
     },
     "metadata": {},
     "output_type": "display_data"
    },
    {
     "name": "stdout",
     "output_type": "stream",
     "text": [
      "\n"
     ]
    },
    {
     "data": {
      "application/vnd.jupyter.widget-view+json": {
       "model_id": "02b97d89259e43d585dc699b8f0c37f1",
       "version_major": 2,
       "version_minor": 0
      },
      "text/plain": [
       "HBox(children=(FloatProgress(value=0.0, max=9.0), HTML(value='')))"
      ]
     },
     "metadata": {},
     "output_type": "display_data"
    },
    {
     "name": "stdout",
     "output_type": "stream",
     "text": [
      "\n"
     ]
    },
    {
     "data": {
      "application/vnd.jupyter.widget-view+json": {
       "model_id": "da94c9f4336444ba9068405fd466f40b",
       "version_major": 2,
       "version_minor": 0
      },
      "text/plain": [
       "HBox(children=(FloatProgress(value=0.0, max=9.0), HTML(value='')))"
      ]
     },
     "metadata": {},
     "output_type": "display_data"
    },
    {
     "name": "stdout",
     "output_type": "stream",
     "text": [
      "\n"
     ]
    },
    {
     "data": {
      "application/vnd.jupyter.widget-view+json": {
       "model_id": "41c452386df04ed7af1d2509dfd5d3e5",
       "version_major": 2,
       "version_minor": 0
      },
      "text/plain": [
       "HBox(children=(FloatProgress(value=0.0, max=9.0), HTML(value='')))"
      ]
     },
     "metadata": {},
     "output_type": "display_data"
    },
    {
     "name": "stdout",
     "output_type": "stream",
     "text": [
      "\n"
     ]
    },
    {
     "data": {
      "application/vnd.jupyter.widget-view+json": {
       "model_id": "1e10e9f4e7164e4c8c2aa56eb189c4f3",
       "version_major": 2,
       "version_minor": 0
      },
      "text/plain": [
       "HBox(children=(FloatProgress(value=0.0, max=9.0), HTML(value='')))"
      ]
     },
     "metadata": {},
     "output_type": "display_data"
    },
    {
     "name": "stdout",
     "output_type": "stream",
     "text": [
      "\n"
     ]
    },
    {
     "data": {
      "application/vnd.jupyter.widget-view+json": {
       "model_id": "c0272423a70d435aa36c5a7da0da8b4f",
       "version_major": 2,
       "version_minor": 0
      },
      "text/plain": [
       "HBox(children=(FloatProgress(value=0.0, max=9.0), HTML(value='')))"
      ]
     },
     "metadata": {},
     "output_type": "display_data"
    },
    {
     "name": "stdout",
     "output_type": "stream",
     "text": [
      "\n"
     ]
    },
    {
     "data": {
      "application/vnd.jupyter.widget-view+json": {
       "model_id": "cb24b1c887ef42e7a0a3c0c3e6a822bd",
       "version_major": 2,
       "version_minor": 0
      },
      "text/plain": [
       "HBox(children=(FloatProgress(value=0.0, max=9.0), HTML(value='')))"
      ]
     },
     "metadata": {},
     "output_type": "display_data"
    },
    {
     "name": "stdout",
     "output_type": "stream",
     "text": [
      "\n"
     ]
    },
    {
     "data": {
      "application/vnd.jupyter.widget-view+json": {
       "model_id": "12ebbb767f544d628ec0638753c8bfd3",
       "version_major": 2,
       "version_minor": 0
      },
      "text/plain": [
       "HBox(children=(FloatProgress(value=0.0, max=9.0), HTML(value='')))"
      ]
     },
     "metadata": {},
     "output_type": "display_data"
    },
    {
     "name": "stdout",
     "output_type": "stream",
     "text": [
      "\n"
     ]
    },
    {
     "data": {
      "application/vnd.jupyter.widget-view+json": {
       "model_id": "ae0fd473e6864f549030495d0deaddca",
       "version_major": 2,
       "version_minor": 0
      },
      "text/plain": [
       "HBox(children=(FloatProgress(value=0.0, max=9.0), HTML(value='')))"
      ]
     },
     "metadata": {},
     "output_type": "display_data"
    },
    {
     "name": "stdout",
     "output_type": "stream",
     "text": [
      "\n"
     ]
    },
    {
     "data": {
      "application/vnd.jupyter.widget-view+json": {
       "model_id": "14ee0ef7043b4aa18d3f7112e76958e7",
       "version_major": 2,
       "version_minor": 0
      },
      "text/plain": [
       "HBox(children=(FloatProgress(value=0.0, max=9.0), HTML(value='')))"
      ]
     },
     "metadata": {},
     "output_type": "display_data"
    },
    {
     "name": "stdout",
     "output_type": "stream",
     "text": [
      "\n"
     ]
    },
    {
     "data": {
      "application/vnd.jupyter.widget-view+json": {
       "model_id": "dd8e83d13fb843c6ae8c3846700070b4",
       "version_major": 2,
       "version_minor": 0
      },
      "text/plain": [
       "HBox(children=(FloatProgress(value=0.0, max=9.0), HTML(value='')))"
      ]
     },
     "metadata": {},
     "output_type": "display_data"
    },
    {
     "name": "stdout",
     "output_type": "stream",
     "text": [
      "\n",
      "\n"
     ]
    }
   ],
   "source": [
    "## DivScore for collections with same fraction of AAE posts (8.7%) with control sets of different sizes\n",
    "\n",
    "size = 1000\n",
    "reps = 25\n",
    "m = 11\n",
    "p_size = 500\n",
    "\n",
    "def eval(dataset, inp):\n",
    "    control, lowerFS, lowerMS, upperFS, upperMS = inp\n",
    "    DIs = []\n",
    "    random.shuffle(control)\n",
    "    for k in tqdm(range(10, 100, 10)):\n",
    "        DIs.append(getProxyMeasure(dataset, control[:k], lowerFS, lowerMS, upperFS, upperMS))\n",
    "    return DIs\n",
    "\n",
    "sDIsAll_rand, sDIsAll_good = [], []\n",
    "for _ in tqdm(range(reps)):\n",
    "    indices = list(range(len(tweets)))\n",
    "    random.shuffle(indices)\n",
    "\n",
    "    test, validation = indices[p_size:], indices[:p_size]\n",
    "    N = int(size*baseFrac)\n",
    "    aa_T = [tweets[i] for i in test if tweetsToDialect[tweets[i]]==\"AAE\" ]\n",
    "    wh_T = [tweets[i] for i in test if tweetsToDialect[tweets[i]]==\"WH\" ]\n",
    "\n",
    "    random.shuffle(aa_T)\n",
    "    random.shuffle(wh_T)\n",
    "    dataset = []\n",
    "    dataset += aa_T[:N] + wh_T[:(size-N)]\n",
    "    random.shuffle(dataset)\n",
    "\n",
    "    sDIs_r, sDIs_g = [], []\n",
    "    \n",
    "    sDIsAll_rand.append(eval(dataset, getRandomControlSet(validation, k=100)))\n",
    "    sDIsAll_good.append(eval(dataset, getGoodControlSet(validation, k=100, alpha=0.1)))\n"
   ]
  },
  {
   "cell_type": "code",
   "execution_count": 560,
   "metadata": {},
   "outputs": [
    {
     "data": {
      "text/plain": [
       "<matplotlib.legend.Legend at 0x7f8028905cf8>"
      ]
     },
     "execution_count": 560,
     "metadata": {},
     "output_type": "execute_result"
    },
    {
     "data": {
      "image/png": "[encoded data removed]",
      "text/plain": [
       "<Figure size 640x320 with 1 Axes>"
      ]
     },
     "metadata": {},
     "output_type": "display_data"
    }
   ],
   "source": [
    "from matplotlib.transforms import Affine2D\n",
    "figure(num=None, figsize=(8, 4), dpi=80, facecolor='w', edgecolor='k')\n",
    "\n",
    "yl = 1.5\n",
    "fs = 15\n",
    "m2 = 9\n",
    "xs = list(range(10, 100, 10))\n",
    "def plot1(DIs, label=\"\", xt=0):\n",
    "    ys = np.array([np.mean(DIs[:,i]) for i in range(m2)])\n",
    "    err = np.array([np.std(DIs[:,i]) for i in range(m2)])\n",
    "    ax.errorbar(xs, ys, err, fmt=\".\", label=label, capsize=3, capthick=1, markersize=6)\n",
    "    \n",
    "ax = plt.subplot(111)\n",
    "ys = [(2*baseFrac-1) for x in xs]\n",
    "ax.plot(xs, ys, \":\", label=\"True disparity in dataset\", lw=3, color=\"black\")\n",
    "ax.set_xlabel(\"Size of Control set\", fontsize=fs)\n",
    "ax.set_ylabel(\"Diversity score w.r.t dialect\", fontsize=fs)\n",
    "plot1(np.array(sDIsAll_rand), label=\"DivScore-Random-Balanced\",xt=-0.01)\n",
    "plot1(np.array(sDIsAll_good), label=\"DivScore-Adaptive\",xt=0.01)\n",
    "ax.legend(fontsize=15, bbox_to_anchor=(1.05,1.3), ncol=2)        \n"
   ]
  },
  {
   "cell_type": "code",
   "execution_count": 584,
   "metadata": {
    "scrolled": true
   },
   "outputs": [
    {
     "data": {
      "application/vnd.jupyter.widget-view+json": {
       "model_id": "f94297a1b8e0448d9d2b6dc39dcdae42",
       "version_major": 2,
       "version_minor": 0
      },
      "text/plain": [
       "HBox(children=(FloatProgress(value=0.0, max=3.0), HTML(value='')))"
      ]
     },
     "metadata": {},
     "output_type": "display_data"
    },
    {
     "name": "stdout",
     "output_type": "stream",
     "text": [
      "50 50\n",
      "50 50\n",
      "49 50\n",
      "\n"
     ]
    }
   ],
   "source": [
    "## DivScore for collections with different fraction of AAE posts\n",
    "\n",
    "size = 1000\n",
    "reps = 25\n",
    "m = 11\n",
    "p_size = 300\n",
    "\n",
    "def eval(test, inp1, inp2):\n",
    "    rDIs, gDIs = [], []\n",
    "\n",
    "    ## dialect audit\n",
    "    for f in (np.linspace(0, 1, m)):\n",
    "        \n",
    "        N = int(size*f)\n",
    "        aa_T = [tweets[i] for i in test if tweetsToDialect[tweets[i]]==\"AAE\" ]\n",
    "        wh_T = [tweets[i] for i in test if tweetsToDialect[tweets[i]]==\"WH\" ]\n",
    "\n",
    "        random.shuffle(aa_T)\n",
    "        random.shuffle(wh_T)\n",
    "        dataset = []\n",
    "        dataset += aa_T[:N] + wh_T[:(size-N)]\n",
    "        random.shuffle(dataset)\n",
    "        \n",
    "        control, lowerFS, lowerMS, upperFS, upperMS = inp1\n",
    "        ds1 = getProxyMeasure(dataset, control, lowerFS, lowerMS, upperFS, upperMS)\n",
    "        \n",
    "        control, lowerFS, lowerMS, upperFS, upperMS = inp2\n",
    "        ds2 = getProxyMeasure(dataset, control, lowerFS, lowerMS, upperFS, upperMS)\n",
    "        rDIs.append(ds1)\n",
    "        gDIs.append(ds2)\n",
    "    return rDIs, gDIs\n",
    "\n",
    "gDIsAll_rand, gDIsAll_good = [], []\n",
    "for _ in tqdm(range(reps)):\n",
    "    indices = list(range(len(tweets)))\n",
    "    random.shuffle(indices)\n",
    "\n",
    "    test, validation = indices[p_size:], indices[:p_size]\n",
    "    rDIs, gDIs = eval(test, getRandomControlSet(validation, k=50), getGoodControlSet(validation, k=50, alpha=0.1))\n",
    "    gDIsAll_rand.append(rDIs)\n",
    "    gDIsAll_good.append(gDIs)\n",
    "\n"
   ]
  },
  {
   "cell_type": "code",
   "execution_count": 585,
   "metadata": {},
   "outputs": [
    {
     "data": {
      "text/plain": [
       "<matplotlib.legend.Legend at 0x7f8018e71128>"
      ]
     },
     "execution_count": 585,
     "metadata": {},
     "output_type": "execute_result"
    },
    {
     "data": {
      "image/png": "[encoded data removed]",
      "text/plain": [
       "<Figure size 640x320 with 1 Axes>"
      ]
     },
     "metadata": {},
     "output_type": "display_data"
    }
   ],
   "source": [
    "from matplotlib.transforms import Affine2D\n",
    "figure(num=None, figsize=(8, 4), dpi=80, facecolor='w', edgecolor='k')\n",
    "\n",
    "yl = 1.5\n",
    "fs = 15\n",
    "def plot1(DIs, label=\"\", xt=0):\n",
    "    ys = np.array([np.mean(DIs[:,i]) for i in range(m)])\n",
    "    err = np.array([np.std(DIs[:,i]) for i in range(m)])\n",
    "    xs = np.linspace(0, 1, m)\n",
    "    trans = Affine2D().translate(-xt, 0.0) + ax.transData\n",
    "    ax.errorbar(xs, ys, err, fmt=\"o\", label=label, transform=trans, capsize=3, capthick=1, markersize=6)\n",
    "    \n",
    "ax = plt.subplot(111)\n",
    "xs = np.linspace(0, 1, m)\n",
    "ys = [(2*x-1) for x in xs]\n",
    "ax.plot(xs, ys, \":\", label=\"True disparity in collection\", lw=3, color=\"black\")\n",
    "ax.set_xlabel(\"Fraction of AAE posts in collection\", fontsize=fs)\n",
    "ax.set_ylabel(\"Diversity score w.r.t dialect\", fontsize=fs)\n",
    "# ax.set_ylim([-yl,yl])\n",
    "plot1(np.array(gDIsAll_rand_3[-25:]), label=\"DivScore-Random-Balanced\",xt=-0.01)\n",
    "plot1(np.array(gDIsAll_good_3[-25:]), label=\"DivScore-Adaptive\",xt=0.01)\n",
    "ax.legend(fontsize=15, bbox_to_anchor=(1.05,1.3), ncol=2)        \n"
   ]
  },
  {
   "cell_type": "code",
   "execution_count": null,
   "metadata": {},
   "outputs": [],
   "source": []
  }
 ],
 "metadata": {
  "kernelspec": {
   "display_name": "Python 3",
   "language": "python",
   "name": "python3"
  },
  "language_info": {
   "codemirror_mode": {
    "name": "ipython",
    "version": 3
   },
   "file_extension": ".py",
   "mimetype": "text/x-python",
   "name": "python",
   "nbconvert_exporter": "python",
   "pygments_lexer": "ipython3",
   "version": "3.8.5"
  }
 },
 "nbformat": 4,
 "nbformat_minor": 2
}
